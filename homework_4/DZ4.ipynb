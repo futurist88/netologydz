{
 "cells": [
  {
   "cell_type": "code",
   "execution_count": 1,
   "metadata": {},
   "outputs": [],
   "source": [
    "documents = [\n",
    " {'type': 'passport', 'number': '2207 876234', 'name': 'Василий Гупкин'},\n",
    " {'type': 'invoice', 'number': '11-2', 'name': 'Геннадий Покемонов'},\n",
    " {'type': 'insurance', 'number': '10006', 'name': 'Аристарх Павлов'}\n",
    "]"
   ]
  },
  {
   "cell_type": "code",
   "execution_count": 2,
   "metadata": {},
   "outputs": [],
   "source": [
    "directories = {\n",
    " '1': ['2207 876234', '11-2'],\n",
    " '2': ['10006'],\n",
    " '3': []\n",
    "}"
   ]
  },
  {
   "cell_type": "code",
   "execution_count": 16,
   "metadata": {},
   "outputs": [],
   "source": [
    "def doc_owner():\n",
    "    i = 0\n",
    "    doc_num = input('Введите номер документа: ')\n",
    "    for i in range(len(documents)):\n",
    "        if doc_num == documents[i]['number']:\n",
    "            doc_name = documents[i]['name']\n",
    "            break\n",
    "        else:\n",
    "            doc_name = 'Документ не найден в базе'\n",
    "    if doc_name != 'Документ не найден в базе':\n",
    "        print('Владелец документа:', doc_name)\n",
    "    else:\n",
    "        print('Документ не найден в базе')"
   ]
  },
  {
   "cell_type": "code",
   "execution_count": 17,
   "metadata": {},
   "outputs": [],
   "source": [
    "def doc_dir():\n",
    "    i = 1\n",
    "    j = 0\n",
    "    doc_num = input('Введите номер документа: ')\n",
    "    for i in directories.keys():\n",
    "        for j in range(len(directories[i])):\n",
    "            if doc_num == directories[i][j]:\n",
    "                dir_num = i\n",
    "                break\n",
    "            else:\n",
    "                dir_num = 'Документ не найден в базе'\n",
    "        if dir_num != 'Документ не найден в базе':\n",
    "            break\n",
    "    if dir_num != 'Документ не найден в базе':\n",
    "        print('Документ хранится на полке:', dir_num)\n",
    "    else:\n",
    "        print('Документ не найден в базе')"
   ]
  },
  {
   "cell_type": "code",
   "execution_count": 18,
   "metadata": {},
   "outputs": [],
   "source": [
    "def doc_dir_for_l(doc_num):\n",
    "    i = 1\n",
    "    j = 0\n",
    "    for i in directories.keys():\n",
    "        for j in range(len(directories[i])):\n",
    "            if doc_num == directories[i][j]:\n",
    "                dir_num = i\n",
    "                break\n",
    "    return(dir_num)"
   ]
  },
  {
   "cell_type": "code",
   "execution_count": 19,
   "metadata": {
    "scrolled": true
   },
   "outputs": [],
   "source": [
    "def l_dict():\n",
    "    i = 0\n",
    "    for i in range(len(documents)):\n",
    "        num = documents[i]['number']\n",
    "        pos = doc_dir_for_l(num)\n",
    "        print('№: ' + documents[i]['number'], 'тип: ' + documents[i]['type'], 'владелец: ' + documents[i]['name'], 'полка хранения: ' + pos, sep=', ')  "
   ]
  },
  {
   "cell_type": "code",
   "execution_count": 20,
   "metadata": {},
   "outputs": [],
   "source": [
    "def ads_dict():\n",
    "    i = 1\n",
    "    num_direct = input('Введите номер полки: ')\n",
    "    for i in directories.keys():\n",
    "        if num_direct == i:\n",
    "            print('Такая полка уже существует. Текущий перечень полок: ' + ', '.join(list(directories.keys())), end = '.')\n",
    "            break\n",
    "    else:\n",
    "        directories[num_direct] = []\n",
    "        print('Полка добавлена. Текущий перечень полок: ' + ', '.join(sorted(list(directories.keys()))), end = '.')"
   ]
  },
  {
   "cell_type": "code",
   "execution_count": 21,
   "metadata": {},
   "outputs": [],
   "source": [
    "def del_dict():\n",
    "    i = 1\n",
    "    num_direct = input('Введите номер полки: ')\n",
    "    if int(num_direct) not in range(len(directories) + 1) or int(num_direct) == 0:\n",
    "        print('Такой полки не существует. Текущий перечень полок: ' + ', '.join(list(directories.keys())), end = '.')\n",
    "    else:\n",
    "        for i in directories.keys():\n",
    "            if len(directories[num_direct]) > 0:\n",
    "                print('На полке есть документа, удалите их перед удалением полки. Текущий перечень полок: ' + ', '.join(list(directories.keys())), end = '.')\n",
    "                break\n",
    "            elif len(directories[num_direct]) == 0:\n",
    "                del directories[num_direct]\n",
    "                print('Полка удалена. Текущий перечень полок: ' + ', '.join(list(directories.keys())), end = '.')\n",
    "                break"
   ]
  },
  {
   "cell_type": "code",
   "execution_count": 26,
   "metadata": {},
   "outputs": [
    {
     "name": "stdout",
     "output_type": "stream",
     "text": [
      "Введите команду: l\n",
      "№: 2207 876234, тип: passport, владелец: Василий Гупкин, полка хранения: 1\n",
      "№: 11-2, тип: invoice, владелец: Геннадий Покемонов, полка хранения: 1\n",
      "№: 10006, тип: insurance, владелец: Аристарх Павлов, полка хранения: 2\n",
      "Введите команду: s\n",
      "Введите номер документа: 11-2\n",
      "Документ хранится на полке: 1\n",
      "Введите команду: 1\n",
      "Неизвестная команда\n",
      "Введите команду: ds\n",
      "Введите номер полки: 1\n",
      "На полке есть документа, удалите их перед удалением полки. Текущий перечень полок: 1, 2, 3.Введите команду: ads\n",
      "Введите номер полки: 1\n",
      "Такая полка уже существует. Текущий перечень полок: 1, 2, 3.Введите команду: q\n"
     ]
    }
   ],
   "source": [
    "def main():\n",
    "    while True:\n",
    "        command = input('Введите команду: ')\n",
    "        if command == 'p':\n",
    "            doc_owner()\n",
    "        elif command == 's':\n",
    "            doc_dir()\n",
    "        elif command == 'l':\n",
    "            l_dict()\n",
    "        elif command == 'ads':\n",
    "            ads_dict()\n",
    "        elif command == 'ds':\n",
    "            del_dict()\n",
    "        elif command == 'q':\n",
    "            break\n",
    "        else:\n",
    "            print('Неизвестная команда')\n",
    "main()\n"
   ]
  }
 ],
 "metadata": {
  "kernelspec": {
   "display_name": "Python 3",
   "language": "python",
   "name": "python3"
  },
  "language_info": {
   "codemirror_mode": {
    "name": "ipython",
    "version": 3
   },
   "file_extension": ".py",
   "mimetype": "text/x-python",
   "name": "python",
   "nbconvert_exporter": "python",
   "pygments_lexer": "ipython3",
   "version": "3.8.5"
  }
 },
 "nbformat": 4,
 "nbformat_minor": 4
}
